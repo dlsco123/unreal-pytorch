{
 "cells": [
  {
   "cell_type": "code",
   "execution_count": null,
   "metadata": {},
   "outputs": [],
   "source": [
    "# !pip install ultralytics"
   ]
  },
  {
   "cell_type": "code",
   "execution_count": 14,
   "metadata": {},
   "outputs": [
    {
     "name": "stdout",
     "output_type": "stream",
     "text": [
      "2.0.1+cu118\n"
     ]
    }
   ],
   "source": [
    "import torch\n",
    "\n",
    "print(torch.__version__)"
   ]
  },
  {
   "cell_type": "code",
   "execution_count": null,
   "metadata": {},
   "outputs": [],
   "source": [
    "from ultralytics import YOLO\n",
    "import cv2\n",
    "\n",
    "# Create a YOLOv8 model\n",
    "model = YOLO(\"yolov8n.pt\")\n",
    "\n",
    "# Start webcam\n",
    "cap = cv2.VideoCapture(0)\n",
    "\n",
    "# Open the file to save detection results\n",
    "f = open(\"object_locations.txt\", \"w\")\n",
    "\n",
    "while True:\n",
    "    # Read one frame from the webcam\n",
    "    ret, frame = cap.read()\n",
    "    if not ret:\n",
    "        break\n",
    "\n",
    "    # Predict using the YOLO model\n",
    "    results = model.predict(frame)\n",
    "\n",
    "    # Iterate over each detection\n",
    "    for i in range(results.shape[1]):\n",
    "        detection = results[0][i]\n",
    "        \n",
    "        # Here we are assuming that the first 4 elements are the bounding box coordinates,\n",
    "        # the 5th element is the objectness score, and the rest are the class scores.\n",
    "        bbox = detection[:4]\n",
    "        objectness = detection[4]\n",
    "        class_scores = detection[5:]\n",
    "        \n",
    "        # Find the class with the highest score\n",
    "        class_id = np.argmax(class_scores)\n",
    "        class_score = class_scores[class_id]\n",
    "\n",
    "        # We will consider the detection valid if the confidence score is greater than 0.85\n",
    "        if class_score > 0.85:\n",
    "            # Write to file, draw bounding boxes, etc.\n",
    "            # Note that the bbox coordinates will depend on how they are represented in the output.\n",
    "            # For example, they could be [center_x, center_y, width, height] or [x1, y1, x2, y2].\n",
    "            f.write(f\"Class: {class_id}, BBox: {bbox}\\n\")\n",
    "\n",
    "            # Draw the bounding box\n",
    "            # Note that we are assuming the bbox coordinates are in the format [center_x, center_y, width, height].\n",
    "            # Depending on the model, this might be different (e.g., [x1, y1, x2, y2]).\n",
    "            x1, y1 = int(bbox[0] - bbox[2] / 2), int(bbox[1] - bbox[3] / 2)\n",
    "            x2, y2 = int(bbox[0] + bbox[2] / 2), int(bbox[1] + bbox[3] / 2)\n",
    "            cv2.rectangle(frame, (x1, y1), (x2, y2), (0, 255, 0), 2)\n",
    "\n",
    "            # Draw the class and confidence score\n",
    "            label = f\"Class: {class_id}, Confidence: {class_score:.2f}\"\n",
    "            cv2.putText(frame, label, (x1, y1 - 10), cv2.FONT_HERSHEY_SIMPLEX, 0.5, (0, 255, 0), 2)\n",
    "\n",
    "    # Display the frame\n",
    "    cv2.imshow(\"Frame\", frame)\n",
    "\n",
    "    # Break the loop if 'q' is pressed\n",
    "    if cv2.waitKey(1) & 0xFF == ord('q'):\n",
    "        break\n",
    "\n",
    "# Cleanup\n",
    "cap.release()\n",
    "cv2.destroyAllWindows()\n",
    "f.close()"
   ]
  },
  {
   "cell_type": "code",
   "execution_count": null,
   "metadata": {},
   "outputs": [],
   "source": [
    "from ultralytics import YOLO\n",
    "\n",
    "model = YOLO(\"yolov8m.pt\") \n",
    "model.export(format=\"onnx\", imgsz=[480,640])"
   ]
  },
  {
   "cell_type": "code",
   "execution_count": null,
   "metadata": {},
   "outputs": [],
   "source": [
    "# !pip install onnxruntime"
   ]
  },
  {
   "cell_type": "code",
   "execution_count": 4,
   "metadata": {},
   "outputs": [
    {
     "name": "stdout",
     "output_type": "stream",
     "text": [
      "[array([[[5.1777692e+00, 1.0288152e+01, 1.7757238e+01, ...,\n",
      "         5.3694403e+02, 5.7199719e+02, 5.8175946e+02],\n",
      "        [3.7307391e+00, 3.7775056e+00, 4.2060409e+00, ...,\n",
      "         4.2660059e+02, 4.1951974e+02, 4.0324100e+02],\n",
      "        [1.0757503e+01, 2.0699392e+01, 3.4478863e+01, ...,\n",
      "         2.6600211e+02, 2.8358252e+02, 2.6613248e+02],\n",
      "        ...,\n",
      "        [7.7486038e-07, 5.3644180e-07, 4.4703484e-07, ...,\n",
      "         1.6391277e-06, 2.0861626e-06, 1.9073486e-06],\n",
      "        [4.4703484e-07, 2.0861626e-07, 2.0861626e-07, ...,\n",
      "         2.0265579e-06, 2.2649765e-06, 2.1755695e-06],\n",
      "        [1.1920929e-06, 4.4703484e-07, 2.9802322e-07, ...,\n",
      "         1.9073486e-06, 2.1457672e-06, 2.1457672e-06]]], dtype=float32)]\n"
     ]
    }
   ],
   "source": [
    "import onnxruntime\n",
    "import numpy as np\n",
    "\n",
    "# ONNX 모델 로드\n",
    "ort_session = onnxruntime.InferenceSession(\"yolov8m.onnx\")\n",
    "\n",
    "# 입력 텐서 크기 설정\n",
    "input_shape = (1, 3, 480, 640)\n",
    "x = np.random.random(input_shape).astype(np.float32)\n",
    "\n",
    "# ONNX 런타임에서 입력 및 출력 이름 가져오기\n",
    "input_name = ort_session.get_inputs()[0].name\n",
    "output_name = ort_session.get_outputs()[0].name\n",
    "\n",
    "# ONNX 모델 실행\n",
    "result = ort_session.run([output_name], {input_name: x})\n",
    "\n",
    "# 결과 출력\n",
    "print(result)"
   ]
  },
  {
   "cell_type": "code",
   "execution_count": 11,
   "metadata": {},
   "outputs": [
    {
     "name": "stdout",
     "output_type": "stream",
     "text": [
      "Model output shape: (1, 84, 6300)\n",
      "First detection output: [[     3.9902      13.686      29.069 ...      538.46      558.88      561.68]\n",
      " [     4.1284      4.4876      4.6358 ...      389.38      389.11      397.88]\n",
      " [     9.2838      28.388      55.138 ...      202.39       161.7      165.67]\n",
      " ...\n",
      " [ 2.0862e-07  2.0862e-07  1.7881e-07 ...  2.6822e-06  8.8215e-06  1.3709e-06]\n",
      " [ 1.1921e-07  1.4901e-07  1.1921e-07 ...  3.0994e-06  4.8578e-06  1.9372e-06]\n",
      " [ 1.4901e-07  1.7881e-07  1.4901e-07 ...  1.6391e-06  2.7716e-06  1.2815e-06]]\n"
     ]
    },
    {
     "ename": "ValueError",
     "evalue": "The truth value of an array with more than one element is ambiguous. Use a.any() or a.all()",
     "output_type": "error",
     "traceback": [
      "\u001b[1;31m---------------------------------------------------------------------------\u001b[0m",
      "\u001b[1;31mValueError\u001b[0m                                Traceback (most recent call last)",
      "Cell \u001b[1;32mIn[11], line 48\u001b[0m\n\u001b[0;32m     46\u001b[0m \u001b[39m# Iterate over each detection\u001b[39;00m\n\u001b[0;32m     47\u001b[0m \u001b[39mfor\u001b[39;00m detection \u001b[39min\u001b[39;00m results[\u001b[39m0\u001b[39m]:\n\u001b[1;32m---> 48\u001b[0m     \u001b[39mif\u001b[39;00m detection[\u001b[39m4\u001b[39;49m] \u001b[39m>\u001b[39;49m \u001b[39m0.85\u001b[39;49m:  \u001b[39m# If the confidence score is greater than 0.85\u001b[39;00m\n\u001b[0;32m     49\u001b[0m         f\u001b[39m.\u001b[39mwrite(\u001b[39mf\u001b[39m\u001b[39m\"\u001b[39m\u001b[39mClass: \u001b[39m\u001b[39m{\u001b[39;00m\u001b[39mint\u001b[39m(detection[\u001b[39m5\u001b[39m])\u001b[39m}\u001b[39;00m\u001b[39m, BBox: \u001b[39m\u001b[39m{\u001b[39;00mdetection[:\u001b[39m4\u001b[39m]\u001b[39m}\u001b[39;00m\u001b[39m\\n\u001b[39;00m\u001b[39m\"\u001b[39m)\n\u001b[0;32m     51\u001b[0m         \u001b[39m# Draw the bounding box\u001b[39;00m\n",
      "\u001b[1;31mValueError\u001b[0m: The truth value of an array with more than one element is ambiguous. Use a.any() or a.all()"
     ]
    }
   ],
   "source": [
    "import cv2\n",
    "import onnxruntime\n",
    "import numpy as np\n",
    "from PIL import Image\n",
    "from torchvision import transforms\n",
    "\n",
    "# ONNX 모델 로드\n",
    "ort_session = onnxruntime.InferenceSession(\"yolov8m.onnx\")\n",
    "\n",
    "# ONNX 런타임에서 입력 및 출력 이름 가져오기\n",
    "input_name = ort_session.get_inputs()[0].name\n",
    "output_name = ort_session.get_outputs()[0].name\n",
    "\n",
    "# 웹캠을 사용하거나 비디오 파일을 읽기 위한 VideoCapture 생성\n",
    "cap = cv2.VideoCapture(0) # Use 0 for webcam, or replace with video file path\n",
    "\n",
    "# Open the file to save detection results\n",
    "f = open(\"object_locations.txt\", \"w\")\n",
    "\n",
    "while True:\n",
    "    ret, frame = cap.read()\n",
    "    if not ret:\n",
    "        break\n",
    "    \n",
    "    # OpenCV는 BGR을 사용하지만, PyTorch는 RGB를 사용하므로 색상을 변환합니다.\n",
    "    frame = cv2.cvtColor(frame, cv2.COLOR_BGR2RGB)\n",
    "    # 이미지를 PIL 이미지로 변환합니다.\n",
    "    pil_image = Image.fromarray(frame)\n",
    "    # 이미지를 모델 입력에 맞게 전처리 합니다.\n",
    "    # 모델 입력 크기에 따라 변경해야 합니다.\n",
    "    preprocess = transforms.Compose([\n",
    "        transforms.Resize((480, 640)),\n",
    "        transforms.ToTensor(),\n",
    "        transforms.Normalize(mean=[0.485, 0.456, 0.406], std=[0.229, 0.224, 0.225]),\n",
    "    ])\n",
    "    img = preprocess(pil_image)\n",
    "    img = img.unsqueeze(0).numpy()\n",
    "\n",
    "    # ONNX 모델 실행\n",
    "    # results = ort_session.run([output_name], {input_name: img})\n",
    "    results = ort_session.run([output_name], {input_name: img})\n",
    "    # 모델의 결과를 확인합니다.\n",
    "    print(f\"Model output shape: {results[0].shape}\")\n",
    "    print(f\"First detection output: {results[0][0]}\")\n",
    "\n",
    "    # Iterate over each detection\n",
    "    for detection in results[0]:\n",
    "        if detection[4] > 0.85:  # If the confidence score is greater than 0.85\n",
    "            f.write(f\"Class: {int(detection[5])}, BBox: {detection[:4]}\\n\")\n",
    "\n",
    "            # Draw the bounding box\n",
    "            x1, y1, x2, y2 = map(int, detection[:4])\n",
    "            cv2.rectangle(frame, (x1, y1), (x2, y2), (0, 255, 0), 2)\n",
    "\n",
    "            # Draw the class and confidence score\n",
    "            label = f\"Class: {int(detection[5])}, Confidence: {detection[4]:.2f}\"\n",
    "            cv2.putText(frame, label, (x1, y1 - 10), cv2.FONT_HERSHEY_SIMPLEX, 0.5, (0, 255, 0), 2)\n",
    "\n",
    "    # Display the frame\n",
    "    cv2.imshow(\"Frame\", frame)\n",
    "\n",
    "    # Break the loop if 'q' is pressed\n",
    "    if cv2.waitKey(1) & 0xFF == ord('q'):\n",
    "        break\n",
    "\n",
    "# Cleanup\n",
    "cap.release()\n",
    "cv2.destroyAllWindows()\n",
    "f.close()\n"
   ]
  },
  {
   "cell_type": "code",
   "execution_count": null,
   "metadata": {},
   "outputs": [],
   "source": [
    "import cv2\n",
    "\n",
    "from yolov8 import YOLOv8\n",
    "\n",
    "# Initialize the webcam\n",
    "cap = cv2.VideoCapture(0)\n",
    "\n",
    "# Initialize YOLOv7 object detector\n",
    "model_path = \"models/yolov8m.onnx\"\n",
    "yolov8_detector = YOLOv8(model_path, conf_thres=0.5, iou_thres=0.5)\n",
    "\n",
    "cv2.namedWindow(\"Detected Objects\", cv2.WINDOW_NORMAL)\n",
    "while cap.isOpened():\n",
    "\n",
    "    # Read frame from the video\n",
    "    ret, frame = cap.read()\n",
    "\n",
    "    if not ret:\n",
    "        break\n",
    "\n",
    "    # Update object localizer\n",
    "    boxes, scores, class_ids = yolov8_detector(frame)\n",
    "\n",
    "    combined_img = yolov8_detector.draw_detections(frame)\n",
    "    cv2.imshow(\"Detected Objects\", combined_img)\n",
    "\n",
    "    # Press key q to stop\n",
    "    if cv2.waitKey(1) & 0xFF == ord('q'):\n",
    "        break"
   ]
  },
  {
   "cell_type": "markdown",
   "metadata": {},
   "source": [
    "## YOLOV5"
   ]
  },
  {
   "cell_type": "code",
   "execution_count": 4,
   "metadata": {},
   "outputs": [
    {
     "name": "stderr",
     "output_type": "stream",
     "text": [
      "Using cache found in C:\\Users\\user/.cache\\torch\\hub\\ultralytics_yolov5_master\n",
      "YOLOv5  2023-7-17 Python-3.9.17 torch-2.0.1+cu118 CUDA:0 (NVIDIA GeForce RTX 3060 Laptop GPU, 6144MiB)\n",
      "\n",
      "Fusing layers... \n"
     ]
    },
    {
     "name": "stdout",
     "output_type": "stream",
     "text": [
      "2.0.1+cu118\n"
     ]
    },
    {
     "name": "stderr",
     "output_type": "stream",
     "text": [
      "YOLOv5s summary: 213 layers, 7225885 parameters, 0 gradients\n",
      "Adding AutoShape... \n"
     ]
    }
   ],
   "source": [
    "print(torch.__version__)\n",
    "model = torch.hub.load('ultralytics/yolov5', 'yolov5s', pretrained=True)"
   ]
  },
  {
   "cell_type": "code",
   "execution_count": 10,
   "metadata": {},
   "outputs": [
    {
     "name": "stderr",
     "output_type": "stream",
     "text": [
      "Using cache found in C:\\Users\\user/.cache\\torch\\hub\\ultralytics_yolov5_master\n",
      "YOLOv5  2023-7-17 Python-3.9.17 torch-2.0.1+cu118 CUDA:0 (NVIDIA GeForce RTX 3060 Laptop GPU, 6144MiB)\n",
      "\n",
      "Downloading https://github.com/ultralytics/yolov5/releases/download/v7.0/yolov5s.pt to yolov5s.pt...\n",
      "100%|██████████| 14.1M/14.1M [00:03<00:00, 4.89MB/s]\n",
      "\n",
      "Fusing layers... \n",
      "YOLOv5s summary: 213 layers, 7225885 parameters, 0 gradients\n",
      "Adding AutoShape... \n",
      "C:\\Users\\user/.cache\\torch\\hub\\ultralytics_yolov5_master\\models\\common.py:515: TracerWarning: Converting a tensor to a Python boolean might cause the trace to be incorrect. We can't record the data flow of Python values, so this value will be treated as a constant in the future. This means that the trace might not generalize to other inputs!\n",
      "  y = self.model(im, augment=augment, visualize=visualize) if augment or visualize else self.model(im)\n",
      "C:\\Users\\user/.cache\\torch\\hub\\ultralytics_yolov5_master\\models\\yolo.py:64: TracerWarning: Converting a tensor to a Python boolean might cause the trace to be incorrect. We can't record the data flow of Python values, so this value will be treated as a constant in the future. This means that the trace might not generalize to other inputs!\n",
      "  if self.dynamic or self.grid[i].shape[2:4] != x[i].shape[2:4]:\n"
     ]
    },
    {
     "name": "stdout",
     "output_type": "stream",
     "text": [
      "============= Diagnostic Run torch.onnx.export version 2.0.1+cu118 =============\n",
      "verbose: False, log level: Level.ERROR\n",
      "======================= 0 NONE 0 NOTE 0 WARNING 0 ERROR ========================\n",
      "\n"
     ]
    }
   ],
   "source": [
    "from ultralytics import YOLO\n",
    "import matplotlib.pyplot as plt\n",
    "import cv2,torch\n",
    "# Check if CUDA is available and if so, use it\n",
    "device = torch.device(\"cuda\" if torch.cuda.is_available() else \"cpu\")\n",
    "\n",
    "# # Load the model\n",
    "# model = torch.hub.load('ultralytics/yolov5', 'yolov5s').to(device) # use the appropriate model\n",
    "\n",
    "# # Prepare the dummy input\n",
    "# dummy_input = torch.randn(1, 3, 640, 640).to(device)\n",
    "\n",
    "# # Export the model to an ONNX file\n",
    "# torch.onnx.export(model, dummy_input, \"test.onnx\", verbose=True, opset_version=16)\n",
    "# Load the model\n",
    "model = torch.hub.load('ultralytics/yolov5', 'yolov5s').to(device)\n",
    "\n",
    "# Prepare the dummy input\n",
    "dummy_input = torch.randn(1, 3, 640, 640).to(device)\n",
    "\n",
    "# Export the model to an ONNX file with do_constant_folding=False\n",
    "torch.onnx.export(model, dummy_input, \"test.onnx\", verbose=True, opset_version=16, do_constant_folding=False)"
   ]
  }
 ],
 "metadata": {
  "kernelspec": {
   "display_name": "nic",
   "language": "python",
   "name": "python3"
  },
  "language_info": {
   "codemirror_mode": {
    "name": "ipython",
    "version": 3
   },
   "file_extension": ".py",
   "mimetype": "text/x-python",
   "name": "python",
   "nbconvert_exporter": "python",
   "pygments_lexer": "ipython3",
   "version": "3.9.17"
  },
  "orig_nbformat": 4
 },
 "nbformat": 4,
 "nbformat_minor": 2
}
